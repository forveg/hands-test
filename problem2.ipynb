{
 "cells": [
  {
   "cell_type": "markdown",
   "metadata": {},
   "source": [
    "*Warning: много букв, но открытая постановка вопроса располагает к попыткам дойти до ответа из первых принципов.*\n",
    "\n",
    "### Введение\n",
    "\n",
    "Кластеризация в конечном счете - про расстояния и про то, как эти расстояния образуются интересными нам случайными процессами. Кластеры соответствует участкам сравнительно высокой плотности вероятности (например, моды) соответствующих распределений.\n",
    "\n",
    "Поэтому мой подход таков:\n",
    "1. Определиться с расстояниями\n",
    "2. Определиться с вероятностной моделью\n",
    "3. Вычислить, при каком числе кластеров модель лучше всего описывает данные (без оверфита)\n",
    "\n",
    "### 1 Расстояние\n",
    "\n",
    "Какое расстояние имеет смысл между бинарными векторами? Бинарный вектор обычно означает набор флагов, описывающих объект. Простой dot product будет равен числу совпадающих флагов-единиц. Выражение вида $n - \\langle x,y \\rangle$ + $\\langle 1-x,1-y \\rangle$ будет равно числу отличных битов (и нулей, и единиц) для векторов длины $n$. При такой мере вектор (1,1,0,0,0) будет одинаково близок к векторам (1,1,0,1,0) и (1,1,0,0,1). Легко представить признаки, равенство которых на практике имеет больший вес, чем равенство других. Предметная область может продиктовать конкретные веса, но в абстрактной постановке мера выше кажется разумной.\n",
    "\n",
    "\n",
    "### 2 Вероятностный процесс\n",
    "\n",
    "Подходящую модель предложит предметная область. В абстрактной постановке одна из простейших моделей - смесь многомерных распределений Бернулли. Если знать исходные распределения, то можно вывести их веса внутри смеси -- для этого есть алгоритмы вроде Expectation Maximization, но я воспользуюсь языком вероятностного программирования numpyro, инференс которого работает через mcmc. \n",
    "\n",
    "Почему? Я не нашел серьезных/готовых питониевых инструментов для Latent Class Analysis, и даже если бы они имелись, с numpyro работать веселее: вероятностное программирование - очень гибкий инструмент, не всегда простой, но от работы с ним больше пользы и удовлетворения, чем от работы с монолитным черным ящиком.\n",
    "\n",
    "### 3 Число кластеров\n",
    "\n",
    "Исходный вопрос - сколько кластеров? Смесь Бернуллей предполагает, что число и форма (в виде приора на элементы) кластеров-компонентов заданы извне, а инференс находит их веса. Значит, наиболее веорятные наборы кластеров нужно перебрать самому и сравнить качество построенных на них бернуллиевских смесей.\n",
    "\n",
    "Для отыскания кластеров-кандидатов я решил использовать агломеративную кластеризацию. Почему? Алгоритмов кластеризации множество, включая намного более продвинутые, но агломеративная делает примерно то, что я бы делал вручную -- объединяет близкие вектора в группы все большего размера (и неоднородности). Перебирая пороги межкластерного расстояния (другими словами, делая отсечки на разных уровнях получившейся дендрограммы), получаем логичные кластеры-кандидаты для смеси.\n",
    "\n"
   ]
  },
  {
   "cell_type": "code",
   "execution_count": 1,
   "metadata": {},
   "outputs": [],
   "source": [
    "import pandas as pd\n",
    "import matplotlib.pyplot as plt\n",
    "import numpy as np\n",
    "plt.style.use('seaborn-v0_8-darkgrid')"
   ]
  },
  {
   "cell_type": "code",
   "execution_count": 2,
   "metadata": {},
   "outputs": [],
   "source": [
    "df = pd.read_excel('data/test_data_2.xlsx')"
   ]
  },
  {
   "cell_type": "code",
   "execution_count": 4,
   "metadata": {},
   "outputs": [
    {
     "data": {
      "text/plain": [
       "1010000    9\n",
       "1110000    8\n",
       "1110100    6\n",
       "1101000    6\n",
       "0100101    5\n",
       "          ..\n",
       "1100111    1\n",
       "1100011    1\n",
       "1010110    1\n",
       "1110010    1\n",
       "1101110    1\n",
       "Name: count, Length: 78, dtype: int64"
      ]
     },
     "execution_count": 4,
     "metadata": {},
     "output_type": "execute_result"
    }
   ],
   "source": [
    "( df\n",
    " .apply(lambda row: ''.join(map(str, row)), axis=1)\n",
    " .value_counts()\n",
    " )"
   ]
  },
  {
   "cell_type": "markdown",
   "metadata": {},
   "source": [
    "Уникальных векторов - 78, самый частый встречается 9 раз"
   ]
  },
  {
   "cell_type": "code",
   "execution_count": 1,
   "metadata": {},
   "outputs": [],
   "source": [
    "from sklearn.cluster import AgglomerativeClustering\n",
    "from scipy.cluster.hierarchy import dendrogram"
   ]
  },
  {
   "cell_type": "code",
   "execution_count": 69,
   "metadata": {},
   "outputs": [],
   "source": [
    "#ac = AgglomerativeClustering(n_clusters=None, distance_threshold=0, \n",
    "#                             metric='precomputed', linkage='average')"
   ]
  },
  {
   "cell_type": "code",
   "execution_count": 87,
   "metadata": {},
   "outputs": [],
   "source": [
    "ac = AgglomerativeClustering(n_clusters=None, \n",
    "                             distance_threshold=0, \n",
    "                             metric='precomputed', \n",
    "                             linkage='complete')"
   ]
  },
  {
   "cell_type": "markdown",
   "metadata": {},
   "source": [
    "`distance_threshold=0` означает, что мы будем мержить кластеры до самого последнего;  \n",
    "`metric=precomputed`: кастомная матрица расстояний;\n",
    "С типом расстояния между кластерами (linkage) можно поспорить и в любом случае я экспериментировал с разными. Выбранная опция означает, что расстояние между кластерами равно максимальному расстоянию между членами кластеров, т.е. в нашем случае максимальное число бит, на которое отличаются вектора.   "
   ]
  },
  {
   "cell_type": "code",
   "execution_count": 6,
   "metadata": {},
   "outputs": [],
   "source": [
    "metric = 7-((df.values) @ (df.values).T + (1-df.values) @ (1-df.values).T)"
   ]
  },
  {
   "cell_type": "code",
   "execution_count": 7,
   "metadata": {},
   "outputs": [
    {
     "data": {
      "text/plain": [
       "array([[0, 3, 2, ..., 3, 3, 3],\n",
       "       [3, 0, 1, ..., 2, 2, 2],\n",
       "       [2, 1, 0, ..., 3, 1, 3],\n",
       "       ...,\n",
       "       [3, 2, 3, ..., 0, 2, 0],\n",
       "       [3, 2, 1, ..., 2, 0, 2],\n",
       "       [3, 2, 3, ..., 0, 2, 0]])"
      ]
     },
     "execution_count": 7,
     "metadata": {},
     "output_type": "execute_result"
    }
   ],
   "source": [
    "metric"
   ]
  },
  {
   "cell_type": "code",
   "execution_count": 8,
   "metadata": {},
   "outputs": [
    {
     "data": {
      "text/plain": [
       "array([[0, 1, 0, 1, 1, 1, 0],\n",
       "       [0, 1, 0, 0, 1, 0, 1]])"
      ]
     },
     "execution_count": 8,
     "metadata": {},
     "output_type": "execute_result"
    }
   ],
   "source": [
    "df.values[[0,1]]"
   ]
  },
  {
   "cell_type": "markdown",
   "metadata": {},
   "source": [
    "Выше - матрица расстояний и для примера вектора 0 и 1, отличающиеся тремя позициями. Ниже - вспомогательные методы для быстрого подсчета расстояний"
   ]
  },
  {
   "cell_type": "code",
   "execution_count": 17,
   "metadata": {},
   "outputs": [
    {
     "data": {
      "text/plain": [
       "np.int64(2)"
      ]
     },
     "execution_count": 17,
     "metadata": {},
     "output_type": "execute_result"
    }
   ],
   "source": [
    "dist_str('1100011', '1100000')"
   ]
  },
  {
   "cell_type": "code",
   "execution_count": 9,
   "metadata": {},
   "outputs": [],
   "source": [
    "def dist_str(s1: str, s2: str):\n",
    "    x1 = np.array([int(x) for x in s1])\n",
    "    x2 = np.array([int(x) for x in s2])\n",
    "    return dist(x1, x2)\n",
    "\n",
    "def dist(x1: np.ndarray, x2: np.ndarray):\n",
    "    return 7-(x1 @ x2 + (1-x1) @ (1-x2))"
   ]
  },
  {
   "cell_type": "code",
   "execution_count": 88,
   "metadata": {},
   "outputs": [],
   "source": [
    "ac = ac.fit(metric)"
   ]
  },
  {
   "cell_type": "code",
   "execution_count": 11,
   "metadata": {},
   "outputs": [],
   "source": [
    "def plot_dendrogram(model, **kwargs):\n",
    "    # Create linkage matrix and then plot the dendrogram\n",
    "\n",
    "    # create the counts of samples under each node\n",
    "    counts = np.zeros(model.children_.shape[0])\n",
    "    n_samples = len(model.labels_)\n",
    "    for i, merge in enumerate(model.children_):\n",
    "        current_count = 0\n",
    "        for child_idx in merge:\n",
    "            if child_idx < n_samples:\n",
    "                current_count += 1  # leaf node\n",
    "            else:\n",
    "                current_count += counts[child_idx - n_samples]\n",
    "        counts[i] = current_count\n",
    "\n",
    "    linkage_matrix = np.column_stack(\n",
    "        [model.children_, model.distances_, counts]\n",
    "    ).astype(float)\n",
    "\n",
    "    # Plot the corresponding dendrogram\n",
    "    dendrogram(linkage_matrix, **kwargs)"
   ]
  },
  {
   "cell_type": "code",
   "execution_count": 58,
   "metadata": {},
   "outputs": [
    {
     "data": {
      "image/png": "[encoded data removed]",
      "text/plain": [
       "<Figure size 1200x700 with 1 Axes>"
      ]
     },
     "metadata": {},
     "output_type": "display_data"
    }
   ],
   "source": [
    "fig,ax=plt.subplots(figsize=(12,7))\n",
    "ax.set_title(\"Hierarchical Clustering Dendrogram\")\n",
    "plot_dendrogram(ac, truncate_mode=\"level\", p=6, ax=ax)\n",
    "plt.xlabel(\"Number of points in node (or index of point if no parenthesis).\");\n"
   ]
  },
  {
   "cell_type": "markdown",
   "metadata": {},
   "source": [
    "Процедура отрисовки дендрограммы взята из sklearn-овского туториала. Дендрограмма для визуальной оценки, что все более-менее работает, как надо. \n",
    "Кластеризатор не хранит результируюшие кластеры, только ссылки на дочерние кластеры в поле `ac.children_`, поэтому кластеры нужно достать вручную, простым рекурсивным образом (`get_elems()`)"
   ]
  },
  {
   "cell_type": "code",
   "execution_count": 89,
   "metadata": {},
   "outputs": [
    {
     "data": {
      "text/plain": [
       "array([0., 0., 0., 0., 0., 0., 0., 0., 0., 0., 0., 0., 0., 0., 0., 0., 0.,\n",
       "       0., 0., 0., 0., 0., 0., 0., 0., 0., 0., 0., 0., 0., 0., 0., 0., 0.,\n",
       "       0., 0., 0., 0., 0., 0., 0., 0., 0., 0., 0., 0., 0., 0., 0., 0., 0.,\n",
       "       0., 0., 0., 0., 0., 0., 0., 0., 0., 0., 0., 0., 0., 0., 0., 0., 0.,\n",
       "       0., 0., 0., 0., 0., 0., 0., 0., 0., 0., 0., 0., 0., 0., 0., 0., 0.,\n",
       "       0., 0., 0., 0., 0., 0., 0., 0., 0., 0., 0., 0., 0., 0., 0., 0., 0.,\n",
       "       0., 0., 0., 0., 0., 0., 0., 0., 0., 0., 0., 0., 0., 0., 0., 0., 0.,\n",
       "       0., 0., 0., 0., 0., 0., 0., 0., 0., 0., 0., 0., 0., 0., 0., 0., 0.,\n",
       "       0., 0., 0., 0., 0., 0., 0., 0., 0., 0., 0., 0., 0., 0., 0., 0., 0.,\n",
       "       0., 0., 0., 0., 0., 0., 0., 0., 0., 1., 1., 1., 1., 1., 1., 1., 1.,\n",
       "       1., 1., 1., 1., 1., 1., 1., 1., 1., 1., 1., 1., 1., 1., 1., 1., 1.,\n",
       "       1., 1., 1., 1., 1., 1., 1., 1., 1., 1., 1., 1., 2., 2., 2., 2., 2.,\n",
       "       2., 2., 2., 2., 2., 2., 2., 2., 2., 2., 2., 3., 3., 3., 3., 3., 3.,\n",
       "       3., 3., 3., 3., 4., 4., 4., 4., 4., 4., 5., 5., 5., 5., 5., 6., 7.,\n",
       "       7.])"
      ]
     },
     "execution_count": 89,
     "metadata": {},
     "output_type": "execute_result"
    }
   ],
   "source": [
    "ac.distances_"
   ]
  },
  {
   "cell_type": "code",
   "execution_count": 16,
   "metadata": {},
   "outputs": [],
   "source": [
    "def get_elems(ix, children):\n",
    "    res_left = [int(children[ix][0])] if children[ix][0]<240 else get_elems(children[ix][0]-240, children) \n",
    "    res_right = [int(children[ix][1])] if children[ix][1]<240 else get_elems(children[ix][1]-240, children) \n",
    "    return res_left + res_right"
   ]
  },
  {
   "cell_type": "code",
   "execution_count": 93,
   "metadata": {},
   "outputs": [],
   "source": [
    "clusters = [ (i,get_elems(i, ac.children_)) for i in range(len(ac.children_))]"
   ]
  },
  {
   "cell_type": "code",
   "execution_count": 94,
   "metadata": {},
   "outputs": [],
   "source": [
    "# clusters with distance (max num of different bits) = k \n",
    "get_clusters = lambda thresh: [c for c,d in zip(clusters, ac.distances_) if d==thresh] \n",
    "clusters_final = [get_clusters(d) for d in range(2,7)]"
   ]
  },
  {
   "cell_type": "code",
   "execution_count": 85,
   "metadata": {},
   "outputs": [],
   "source": [
    "# clusters with distance in a certain range (eg for average linkage) \n",
    "#get_clusters = lambda thresh: [c for c,d in zip(clusters, ac.distances_) if d>=thresh[0] and d<thresh[1]] \n",
    "#clusters_final = [get_clusters(d) for d in zip(np.linspace(0,6,10)[:-1], np.linspace(0,6,10)[1:])]"
   ]
  },
  {
   "cell_type": "code",
   "execution_count": 95,
   "metadata": {},
   "outputs": [
    {
     "data": {
      "text/plain": [
       "[16, 10, 6, 5, 1]"
      ]
     },
     "execution_count": 95,
     "metadata": {},
     "output_type": "execute_result"
    }
   ],
   "source": [
    "[len(c) for c in clusters_final]"
   ]
  },
  {
   "cell_type": "markdown",
   "metadata": {},
   "source": [
    "Ниже для примера первый из кластеров, вектора в которых отличаются максимум на 4 бита. Всего таких кластеров шесть"
   ]
  },
  {
   "cell_type": "code",
   "execution_count": 68,
   "metadata": {},
   "outputs": [],
   "source": [
    "for c,k in zip(clusters_final,[2,3,4,5,6]):\n",
    "    for i in range(len(c)):\n",
    "        tmp = df.values[c[i][1]]\n",
    "        assert k == (7 - (tmp @ tmp.T + (1-tmp) @ (1-tmp).T)).max() "
   ]
  },
  {
   "cell_type": "code",
   "execution_count": 65,
   "metadata": {},
   "outputs": [
    {
     "data": {
      "text/plain": [
       "array([[0, 0, 0, 0, 1, 1, 1],\n",
       "       [0, 0, 0, 0, 1, 1, 1],\n",
       "       [0, 0, 0, 0, 1, 1, 1],\n",
       "       [0, 0, 0, 0, 1, 1, 1],\n",
       "       [0, 0, 1, 0, 1, 0, 1],\n",
       "       [0, 0, 1, 0, 1, 0, 1],\n",
       "       [0, 0, 1, 0, 1, 1, 1],\n",
       "       [0, 0, 1, 0, 1, 1, 1],\n",
       "       [0, 0, 1, 0, 1, 1, 1],\n",
       "       [0, 0, 1, 1, 1, 0, 0],\n",
       "       [0, 0, 1, 1, 1, 0, 0],\n",
       "       [0, 0, 1, 1, 1, 0, 0],\n",
       "       [0, 0, 0, 1, 1, 0, 0],\n",
       "       [0, 0, 0, 1, 1, 0, 0],\n",
       "       [0, 0, 0, 1, 1, 0, 0],\n",
       "       [0, 0, 0, 1, 1, 0, 0],\n",
       "       [0, 0, 1, 1, 1, 0, 1],\n",
       "       [0, 0, 1, 1, 0, 0, 1],\n",
       "       [0, 0, 0, 1, 0, 0, 1],\n",
       "       [0, 0, 0, 1, 1, 0, 1],\n",
       "       [0, 0, 0, 1, 1, 0, 1],\n",
       "       [0, 0, 0, 1, 1, 0, 1],\n",
       "       [0, 0, 0, 1, 1, 0, 1]])"
      ]
     },
     "execution_count": 65,
     "metadata": {},
     "output_type": "execute_result"
    }
   ],
   "source": [
    "df.values[clusters_final[2][0][1]]"
   ]
  },
  {
   "cell_type": "code",
   "execution_count": 26,
   "metadata": {},
   "outputs": [
    {
     "name": "stdout",
     "output_type": "stream",
     "text": [
      "[[0.   0.   0.43 0.61 0.91 0.3  0.7 ]\n",
      " [0.   0.83 0.   0.67 0.5  1.   0.25]\n",
      " [0.   0.   0.52 1.   0.36 0.84 0.6 ]\n",
      " [0.2  0.87 0.   0.67 0.6  1.   0.33]\n",
      " [1.   0.44 1.   0.13 0.   0.26 0.31]\n",
      " [1.   1.   0.   0.71 0.38 0.21 0.38]]\n"
     ]
    }
   ],
   "source": [
    "print(np.array_str(\n",
    "    np.stack([df.values[c[1]].mean(axis=0) for c in clusters_final[2]]), \n",
    "    precision=2))"
   ]
  },
  {
   "cell_type": "markdown",
   "metadata": {},
   "source": [
    "Матрица выше получена так: берем вектора из каждого кластера с порогом по расстоянию 4. Берем их среднее в качестве оценки параметров распределения Бернулли. Эту матрицу (для каждого порога: 2, 3, 4, 5, 6) мы скормим numpyro для дальнейшего инференса"
   ]
  },
  {
   "cell_type": "code",
   "execution_count": null,
   "metadata": {},
   "outputs": [],
   "source": [
    "\n",
    "\n",
    "\n",
    "\n",
    "\n"
   ]
  },
  {
   "cell_type": "markdown",
   "metadata": {},
   "source": [
    "### Вероятностная модель"
   ]
  },
  {
   "cell_type": "code",
   "execution_count": 38,
   "metadata": {},
   "outputs": [],
   "source": [
    "import numpyro\n",
    "import numpyro.distributions as dist\n",
    "from numpyro.contrib.funsor import config_enumerate\n",
    "import jax.numpy as jnp\n",
    "import jax\n",
    "from jax import random, vmap"
   ]
  },
  {
   "cell_type": "code",
   "execution_count": 46,
   "metadata": {},
   "outputs": [],
   "source": [
    "@config_enumerate\n",
    "def model(data, n_clusters, bernoullies):\n",
    "    weights = numpyro.sample(\"weights\", dist.Dirichlet(0.5 * jnp.ones(n_clusters)))\n",
    "    \n",
    "    with numpyro.plate('data', len(data)):\n",
    "        assign = numpyro.sample('assignment', dist.Categorical(weights))\n",
    "        numpyro.sample('obs', dist.Bernoulli(bernoullies[assign]).to_event(1), obs=data)"
   ]
  },
  {
   "cell_type": "markdown",
   "metadata": {},
   "source": [
    "Модель такова: генерим веса распределений в смеси, затем с частотой пропорциональной этому весу берем семплы из соответствующего кластера.\n",
    "\n",
    "Ниже - пример инференса для одного набора кластеров, но мне нужно перебрать все наборы."
   ]
  },
  {
   "cell_type": "code",
   "execution_count": 34,
   "metadata": {},
   "outputs": [],
   "source": [
    "from numpyro.infer import MCMC, NUTS"
   ]
  },
  {
   "cell_type": "code",
   "execution_count": 35,
   "metadata": {},
   "outputs": [
    {
     "name": "stderr",
     "output_type": "stream",
     "text": [
      "An NVIDIA GPU may be present on this machine, but a CUDA-enabled jaxlib is not installed. Falling back to cpu.\n",
      "/media/forveg/battleground/py_projects/service_ruki/env/lib/python3.10/site-packages/jax/_src/core.py:678: FutureWarning: unhashable type: <class 'jax._src.interpreters.ad.JVPTracer'>. Attempting to hash a tracer will lead to an error in a future JAX release.\n",
      "  warnings.warn(\n",
      "/media/forveg/battleground/py_projects/service_ruki/env/lib/python3.10/site-packages/jax/_src/core.py:678: FutureWarning: unhashable type: <class 'jax._src.interpreters.ad.JVPTracer'>. Attempting to hash a tracer will lead to an error in a future JAX release.\n",
      "  warnings.warn(\n",
      "  0%|          | 0/4000 [00:00<?, ?it/s]/media/forveg/battleground/py_projects/service_ruki/env/lib/python3.10/site-packages/jax/_src/core.py:678: FutureWarning: unhashable type: <class 'jax._src.interpreters.partial_eval.DynamicJaxprTracer'>. Attempting to hash a tracer will lead to an error in a future JAX release.\n",
      "  warnings.warn(\n",
      "/media/forveg/battleground/py_projects/service_ruki/env/lib/python3.10/site-packages/jax/_src/core.py:678: FutureWarning: unhashable type: <class 'jax._src.interpreters.ad.JVPTracer'>. Attempting to hash a tracer will lead to an error in a future JAX release.\n",
      "  warnings.warn(\n",
      "/media/forveg/battleground/py_projects/service_ruki/env/lib/python3.10/site-packages/jax/_src/core.py:678: FutureWarning: unhashable type: <class 'jax._src.interpreters.partial_eval.DynamicJaxprTracer'>. Attempting to hash a tracer will lead to an error in a future JAX release.\n",
      "  warnings.warn(\n",
      "/media/forveg/battleground/py_projects/service_ruki/env/lib/python3.10/site-packages/jax/_src/core.py:678: FutureWarning: unhashable type: <class 'jax._src.interpreters.ad.JVPTracer'>. Attempting to hash a tracer will lead to an error in a future JAX release.\n",
      "  warnings.warn(\n",
      "sample: 100%|██████████| 4000/4000 [00:58<00:00, 68.69it/s, 15 steps of size 2.40e-01. acc. prob=0.89] \n"
     ]
    }
   ],
   "source": [
    "bernoullies = jnp.array(np.stack([df.values[c[1]].mean(axis=0) for c in clusters_final[2]]))\n",
    "rng_key = random.PRNGKey(0)\n",
    "rng_key, rng_key_ = random.split(rng_key)\n",
    "\n",
    "num_samples = 3000\n",
    "kernel = NUTS(model)\n",
    "mcmc = MCMC(kernel, num_warmup=1000, num_samples=num_samples)\n",
    "mcmc.run(\n",
    "    rng_key_, \n",
    "    data = df.values, \n",
    "    n_clusters = bernoullies.shape[0],\n",
    "    bernoullies = bernoullies\n",
    ")"
   ]
  },
  {
   "cell_type": "code",
   "execution_count": 36,
   "metadata": {},
   "outputs": [
    {
     "name": "stdout",
     "output_type": "stream",
     "text": [
      "\n",
      "                mean       std    median      5.0%     95.0%     n_eff     r_hat\n",
      "weights[0]      0.23      0.03      0.23      0.17      0.28   2195.06      1.00\n",
      "weights[1]      0.08      0.05      0.08      0.00      0.15   1027.63      1.00\n",
      "weights[2]      0.11      0.03      0.11      0.06      0.15   2228.70      1.00\n",
      "weights[3]      0.09      0.06      0.09      0.00      0.17    976.66      1.00\n",
      "weights[4]      0.27      0.03      0.27      0.22      0.32   3116.60      1.00\n",
      "weights[5]      0.23      0.03      0.23      0.17      0.28   2048.39      1.00\n",
      "\n",
      "Number of divergences: 0\n"
     ]
    }
   ],
   "source": [
    "mcmc.print_summary()"
   ]
  },
  {
   "cell_type": "code",
   "execution_count": 39,
   "metadata": {},
   "outputs": [],
   "source": [
    "from numpyro import handlers\n",
    "from jax.scipy.special import logsumexp"
   ]
  },
  {
   "cell_type": "code",
   "execution_count": 40,
   "metadata": {},
   "outputs": [],
   "source": [
    "def log_likelihood(rng_key, params, model, *args, **kwargs):\n",
    "    model = handlers.seed(model, rng_key)\n",
    "    model = handlers.condition(model, params)\n",
    "    model_trace = handlers.trace(model).get_trace(*args, **kwargs)\n",
    "    obs_node = model_trace[\"obs\"]\n",
    "    return obs_node[\"fn\"].log_prob(obs_node[\"value\"])\n",
    "\n",
    "\n",
    "def log_pred_density(rng_key, params, model, *args, **kwargs):\n",
    "    n = list(params.values())[0].shape[0]\n",
    "    log_lk_fn = vmap(\n",
    "        lambda rng_key, params: log_likelihood(rng_key, params, model, *args, **kwargs)\n",
    "    )\n",
    "    log_lk_vals = log_lk_fn(random.split(rng_key, n), params)\n",
    "    return (logsumexp(log_lk_vals, 0) - jnp.log(n)).sum()\n"
   ]
  },
  {
   "cell_type": "code",
   "execution_count": 47,
   "metadata": {},
   "outputs": [
    {
     "name": "stderr",
     "output_type": "stream",
     "text": [
      "/media/forveg/battleground/py_projects/service_ruki/env/lib/python3.10/site-packages/jax/_src/core.py:678: FutureWarning: unhashable type: <class 'jax._src.interpreters.ad.JVPTracer'>. Attempting to hash a tracer will lead to an error in a future JAX release.\n",
      "  warnings.warn(\n",
      "  0%|          | 0/4000 [00:00<?, ?it/s]/media/forveg/battleground/py_projects/service_ruki/env/lib/python3.10/site-packages/jax/_src/core.py:678: FutureWarning: unhashable type: <class 'jax._src.interpreters.partial_eval.DynamicJaxprTracer'>. Attempting to hash a tracer will lead to an error in a future JAX release.\n",
      "  warnings.warn(\n",
      "/media/forveg/battleground/py_projects/service_ruki/env/lib/python3.10/site-packages/jax/_src/core.py:678: FutureWarning: unhashable type: <class 'jax._src.interpreters.partial_eval.DynamicJaxprTracer'>. Attempting to hash a tracer will lead to an error in a future JAX release.\n",
      "  warnings.warn(\n",
      "/media/forveg/battleground/py_projects/service_ruki/env/lib/python3.10/site-packages/jax/_src/core.py:678: FutureWarning: unhashable type: <class 'jax._src.interpreters.ad.JVPTracer'>. Attempting to hash a tracer will lead to an error in a future JAX release.\n",
      "  warnings.warn(\n",
      "sample: 100%|██████████| 4000/4000 [00:23<00:00, 170.68it/s, 7 steps of size 5.52e-01. acc. prob=0.91] \n",
      "/media/forveg/battleground/py_projects/service_ruki/env/lib/python3.10/site-packages/jax/_src/core.py:678: FutureWarning: unhashable type: <class 'jax._src.interpreters.ad.JVPTracer'>. Attempting to hash a tracer will lead to an error in a future JAX release.\n",
      "  warnings.warn(\n",
      "  0%|          | 0/4000 [00:00<?, ?it/s]/media/forveg/battleground/py_projects/service_ruki/env/lib/python3.10/site-packages/jax/_src/core.py:678: FutureWarning: unhashable type: <class 'jax._src.interpreters.partial_eval.DynamicJaxprTracer'>. Attempting to hash a tracer will lead to an error in a future JAX release.\n",
      "  warnings.warn(\n",
      "/media/forveg/battleground/py_projects/service_ruki/env/lib/python3.10/site-packages/jax/_src/core.py:678: FutureWarning: unhashable type: <class 'jax._src.interpreters.partial_eval.DynamicJaxprTracer'>. Attempting to hash a tracer will lead to an error in a future JAX release.\n",
      "  warnings.warn(\n",
      "/media/forveg/battleground/py_projects/service_ruki/env/lib/python3.10/site-packages/jax/_src/core.py:678: FutureWarning: unhashable type: <class 'jax._src.interpreters.ad.JVPTracer'>. Attempting to hash a tracer will lead to an error in a future JAX release.\n",
      "  warnings.warn(\n",
      "sample: 100%|██████████| 4000/4000 [00:13<00:00, 296.47it/s, 7 steps of size 5.20e-01. acc. prob=0.87] \n",
      "/media/forveg/battleground/py_projects/service_ruki/env/lib/python3.10/site-packages/jax/_src/core.py:678: FutureWarning: unhashable type: <class 'jax._src.interpreters.ad.JVPTracer'>. Attempting to hash a tracer will lead to an error in a future JAX release.\n",
      "  warnings.warn(\n",
      "  0%|          | 0/4000 [00:00<?, ?it/s]/media/forveg/battleground/py_projects/service_ruki/env/lib/python3.10/site-packages/jax/_src/core.py:678: FutureWarning: unhashable type: <class 'jax._src.interpreters.partial_eval.DynamicJaxprTracer'>. Attempting to hash a tracer will lead to an error in a future JAX release.\n",
      "  warnings.warn(\n",
      "/media/forveg/battleground/py_projects/service_ruki/env/lib/python3.10/site-packages/jax/_src/core.py:678: FutureWarning: unhashable type: <class 'jax._src.interpreters.partial_eval.DynamicJaxprTracer'>. Attempting to hash a tracer will lead to an error in a future JAX release.\n",
      "  warnings.warn(\n",
      "/media/forveg/battleground/py_projects/service_ruki/env/lib/python3.10/site-packages/jax/_src/core.py:678: FutureWarning: unhashable type: <class 'jax._src.interpreters.ad.JVPTracer'>. Attempting to hash a tracer will lead to an error in a future JAX release.\n",
      "  warnings.warn(\n",
      "sample: 100%|██████████| 4000/4000 [00:07<00:00, 525.62it/s, 15 steps of size 2.40e-01. acc. prob=0.89] \n",
      "/media/forveg/battleground/py_projects/service_ruki/env/lib/python3.10/site-packages/jax/_src/core.py:678: FutureWarning: unhashable type: <class 'jax._src.interpreters.ad.JVPTracer'>. Attempting to hash a tracer will lead to an error in a future JAX release.\n",
      "  warnings.warn(\n",
      "  0%|          | 0/4000 [00:00<?, ?it/s]/media/forveg/battleground/py_projects/service_ruki/env/lib/python3.10/site-packages/jax/_src/core.py:678: FutureWarning: unhashable type: <class 'jax._src.interpreters.partial_eval.DynamicJaxprTracer'>. Attempting to hash a tracer will lead to an error in a future JAX release.\n",
      "  warnings.warn(\n",
      "/media/forveg/battleground/py_projects/service_ruki/env/lib/python3.10/site-packages/jax/_src/core.py:678: FutureWarning: unhashable type: <class 'jax._src.interpreters.partial_eval.DynamicJaxprTracer'>. Attempting to hash a tracer will lead to an error in a future JAX release.\n",
      "  warnings.warn(\n",
      "/media/forveg/battleground/py_projects/service_ruki/env/lib/python3.10/site-packages/jax/_src/core.py:678: FutureWarning: unhashable type: <class 'jax._src.interpreters.ad.JVPTracer'>. Attempting to hash a tracer will lead to an error in a future JAX release.\n",
      "  warnings.warn(\n",
      "sample: 100%|██████████| 4000/4000 [00:04<00:00, 956.17it/s, 15 steps of size 3.01e-01. acc. prob=0.88] \n",
      "/media/forveg/battleground/py_projects/service_ruki/env/lib/python3.10/site-packages/jax/_src/core.py:678: FutureWarning: unhashable type: <class 'jax._src.interpreters.ad.JVPTracer'>. Attempting to hash a tracer will lead to an error in a future JAX release.\n",
      "  warnings.warn(\n",
      "  0%|          | 0/4000 [00:00<?, ?it/s]/media/forveg/battleground/py_projects/service_ruki/env/lib/python3.10/site-packages/jax/_src/core.py:678: FutureWarning: unhashable type: <class 'jax._src.interpreters.partial_eval.DynamicJaxprTracer'>. Attempting to hash a tracer will lead to an error in a future JAX release.\n",
      "  warnings.warn(\n",
      "/media/forveg/battleground/py_projects/service_ruki/env/lib/python3.10/site-packages/jax/_src/core.py:678: FutureWarning: unhashable type: <class 'jax._src.interpreters.partial_eval.DynamicJaxprTracer'>. Attempting to hash a tracer will lead to an error in a future JAX release.\n",
      "  warnings.warn(\n",
      "/media/forveg/battleground/py_projects/service_ruki/env/lib/python3.10/site-packages/jax/_src/core.py:678: FutureWarning: unhashable type: <class 'jax._src.interpreters.ad.JVPTracer'>. Attempting to hash a tracer will lead to an error in a future JAX release.\n",
      "  warnings.warn(\n",
      "sample: 100%|██████████| 4000/4000 [00:02<00:00, 1540.64it/s, 1 steps of size 3.40e+38. acc. prob=1.00]\n"
     ]
    }
   ],
   "source": [
    "mcmcs = []\n",
    "for clusters in clusters_final:\n",
    "    bernoullies = jnp.array(np.stack([df.values[c[1]].mean(axis=0) for c in clusters]))\n",
    "\n",
    "    rng_key = random.PRNGKey(0)\n",
    "    rng_key, rng_key_ = random.split(rng_key)\n",
    "\n",
    "    num_samples = 3000\n",
    "    kernel = NUTS(model)\n",
    "    mcmc = MCMC(kernel, num_warmup=1000, num_samples=num_samples)\n",
    "    mcmc.run(\n",
    "        rng_key_, \n",
    "        data = df.values, \n",
    "        n_clusters = bernoullies.shape[0], \n",
    "        bernoullies = bernoullies\n",
    "    )\n",
    "    mcmcs.append(mcmc)"
   ]
  },
  {
   "cell_type": "code",
   "execution_count": 49,
   "metadata": {},
   "outputs": [],
   "source": [
    "rng_key, rng_key_ = random.split(rng_key)\n",
    "log_probs = []\n",
    "for i,mcmc in enumerate(mcmcs):\n",
    "    samples = mcmc.get_samples()\n",
    "    bernoullies = jnp.array(np.stack([df.values[c[1]].mean(axis=0) for c in clusters_final[i]]))\n",
    "\n",
    "    log_prob = log_pred_density(\n",
    "            rng_key_,\n",
    "            samples,\n",
    "            model,\n",
    "            data = df.values,\n",
    "            n_clusters=bernoullies.shape[0],\n",
    "            bernoullies=bernoullies,\n",
    "        )\n",
    "    log_probs.append(log_prob)"
   ]
  },
  {
   "cell_type": "code",
   "execution_count": 96,
   "metadata": {},
   "outputs": [
    {
     "data": {
      "text/plain": [
       "[16, 10, 6, 5, 1]"
      ]
     },
     "execution_count": 96,
     "metadata": {},
     "output_type": "execute_result"
    }
   ],
   "source": [
    "[len(x) for x in clusters_final]"
   ]
  },
  {
   "cell_type": "code",
   "execution_count": 50,
   "metadata": {},
   "outputs": [
    {
     "data": {
      "text/plain": [
       "[(16, Array(-1881.2703, dtype=float32)),\n",
       " (10, Array(-1466.0188, dtype=float32)),\n",
       " (6, Array(-4394.3604, dtype=float32)),\n",
       " (5, Array(-1105.3668, dtype=float32)),\n",
       " (1, Array(-2989.8936, dtype=float32))]"
      ]
     },
     "execution_count": 50,
     "metadata": {},
     "output_type": "execute_result"
    }
   ],
   "source": [
    "list(zip([len(x) for x in clusters_final],log_probs))"
   ]
  },
  {
   "cell_type": "markdown",
   "metadata": {},
   "source": [
    "Если судить по лог-правдоподобию данных относительно модели, наиболее вероятным числом кластеров является пять, хотя все вероятности очень низкие.\n",
    "\n",
    "В рамках данного подхода можно экспериментировать дальше и на стороне выбора кластеров-кандидатов, и на стороне оценки качества моделей."
   ]
  },
  {
   "cell_type": "markdown",
   "metadata": {},
   "source": [
    "### Что все это значит и что с этим делать\n",
    "\n",
    "Описать полученные кластеры можно по оценкам вероятностей соответствующих Бернуллей. В нашем случае, например, в первых двух кластерах первые два признака всегда ложны, а в последнем первый и третий - всегда истинны.\n",
    "\n",
    "В более практическом контексте могу представить размышления следующего вида: вот очередной семпл из нашей доменной популяции, например, клиент, которого мы описываем вектором категорий товаров, которые он покупал, или вектором профессиональных харакетристик (образование, занятость и пр). К какому кластеру его отнести? Считаем вероятность принадлежности его каждому кластеру и сравниваем. \n",
    "\n",
    "При этом вероятностный характер модели позволяет отнести его к нескольким вероятным кластерам или даже спрогнозировать переход между кластерами (такую динамику можно моделировать марковскими цепями, если оставаться в ареале классических моделей), что логично, т.к. кластеры описывают участки повышенной плотности (\"высокой\" в конкретном контексте; уровень можно регулировать), а не статичные изолированные явления."
   ]
  },
  {
   "cell_type": "code",
   "execution_count": null,
   "metadata": {},
   "outputs": [
    {
     "name": "stdout",
     "output_type": "stream",
     "text": [
      "[[0.   0.   0.48 0.81 0.62 0.58 0.65]\n",
      " [0.   0.   0.63 0.65 0.6  0.62 0.51]\n",
      " [0.1  0.93 0.   0.55 0.64 0.52 0.4 ]\n",
      " [0.21 0.   0.71 0.72 0.6  0.65 0.53]\n",
      " [1.   0.45 1.   0.08 0.37 0.27 0.39]]\n"
     ]
    }
   ],
   "source": [
    "print(np.array_str(\n",
    "    np.stack([ df.values[clusters_final[-2][i][1]].mean(axis=0) for i in range(5)]),\n",
    "    precision=2))"
   ]
  },
  {
   "cell_type": "code",
   "execution_count": null,
   "metadata": {},
   "outputs": [
    {
     "data": {
      "text/plain": [
       "Array([0.01389814, 0.02056143, 0.38595408, 0.30743325, 0.2511279 ],      dtype=float32)"
      ]
     },
     "metadata": {},
     "output_type": "display_data"
    }
   ],
   "source": [
    "jnp.median(mcmcs[-2].get_samples()['weights'], axis=0)"
   ]
  },
  {
   "cell_type": "markdown",
   "metadata": {},
   "source": [
    "А еще можно созерцать матрицы расстояний и искать в них интересные паттерны"
   ]
  },
  {
   "cell_type": "code",
   "execution_count": 131,
   "metadata": {},
   "outputs": [
    {
     "data": {
      "image/png": "[encoded data removed]",
      "text/plain": [
       "<Figure size 640x480 with 1 Axes>"
      ]
     },
     "metadata": {},
     "output_type": "display_data"
    }
   ],
   "source": [
    "tmp = df.values[clusters_final[-2][0][1]]\n",
    "plt.imshow(7 - (tmp @ tmp.T + (1-tmp) @ (1-tmp).T ));"
   ]
  }
 ],
 "metadata": {
  "kernelspec": {
   "display_name": "env",
   "language": "python",
   "name": "python3"
  },
  "language_info": {
   "codemirror_mode": {
    "name": "ipython",
    "version": 3
   },
   "file_extension": ".py",
   "mimetype": "text/x-python",
   "name": "python",
   "nbconvert_exporter": "python",
   "pygments_lexer": "ipython3",
   "version": "3.10.12"
  }
 },
 "nbformat": 4,
 "nbformat_minor": 2
}
